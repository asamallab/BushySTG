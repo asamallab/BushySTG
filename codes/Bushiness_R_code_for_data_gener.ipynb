{
 "cells": [
  {
   "cell_type": "markdown",
   "id": "75046005",
   "metadata": {},
   "source": [
    "# 1. Generation of the dataframe containing global measure values (bushiness and convergence measures)"
   ]
  },
  {
   "cell_type": "code",
   "execution_count": 2,
   "id": "a5de31e9",
   "metadata": {},
   "outputs": [
    {
     "name": "stdout",
     "output_type": "stream",
     "text": [
      "   model_no g_density avg_indeg avg_transient_length\n",
      "1         0 0.7265625  3.657143             3.798387\n",
      "2         1 0.7265625  3.657143             3.658602\n",
      "3         2 0.7500000  4.000000             4.083333\n",
      "4         3 0.7968750  4.923077             3.561275\n",
      "5         4 0.7578125  4.129032             3.451031\n",
      "6         5 0.7421875  3.878788             3.681579\n",
      "7         6 0.7421875  3.878788             3.768421\n",
      "8         7 0.7812500  4.571429             3.472500\n",
      "9         8 0.8125000  5.333333             3.608173\n",
      "10        9 0.7109375  3.459459             3.714286\n",
      "11       10 0.8281250  5.818182             3.452830\n",
      "12       11 0.7812500  4.571429             3.587500\n",
      "13       12 0.7812500  4.571429             3.465000\n",
      "14       13 0.7500000  4.000000             3.552083\n",
      "15       14 0.7031250  3.368421             3.938889\n",
      "16       15 0.7343750  3.764706             4.119681\n",
      "17       16 0.7812500  4.571429             4.122500\n",
      "18       17 0.7890625  4.740741             3.886139\n",
      "19       18 0.7890625  4.740741             3.519802\n",
      "20       19 0.8515625  6.736842             3.286697\n"
     ]
    }
   ],
   "source": [
    "library (BoolNet)\n",
    "\n",
    "model_name <- \"buylla\"\n",
    "ftype <- 'EF'\n",
    "\n",
    "bio_fps <- read.table(sprintf(\"../data/data_10_Boolean_models/%s/attractors_%s.tsv\", model_name, model_name), header=TRUE, sep= \"\\t\")\n",
    "rev_biofps <- bio_fps[order(nrow(bio_fps):1),]\n",
    "N <- nrow(bio_fps) #Number of nodes in the network\n",
    "attr_as_ints <- c()\n",
    "\n",
    "\n",
    "# Function to convert a vector of bits to integer\n",
    "bitsToInt <-function(x) {\n",
    "  packBits(rev(c(rep(FALSE, 32-length(x)%%32), as.logical(x))), \"integer\")\n",
    "}\n",
    "\n",
    "# Get the indices of the biological attractors  \n",
    "for (col in colnames(rev_biofps)[-1])\n",
    "{\n",
    "  l = as.vector(rev_biofps[[col]])\n",
    "  attr_as_ints <- append(attr_as_ints, bitsToInt(l))\n",
    "}\n",
    "\n",
    "start_model <- 0\n",
    "end_model <- 19\n",
    "\n",
    "model_no <- c()\n",
    "avg_indeg <- c()\n",
    "g_density <- c()\n",
    "avg_transient_length <- c()\n",
    "\n",
    "\n",
    "for (model in start_model:end_model)\n",
    "  {\n",
    "  model_no <- c(model_no, model)\n",
    "  bool_model <- loadNetwork(sprintf(\"../data/data_10_Boolean_models/%s/%s_bnet_models/model_%s.bnet\", model_name, ftype, model))\n",
    "  attractor_info <- getAttractors(bool_model)\n",
    "  leaf_states <- setdiff(0:(2^N -1), attractor_info$stateInfo$table)\n",
    "  leaf_count <- length(leaf_states)\n",
    "\n",
    "  # Average indegree for all attractors for non leaf states\n",
    "  avg_indeg <- c(avg_indeg, 2^N/(2^N-leaf_count))\n",
    "  \n",
    "  # g-density for all attractors\n",
    "  g_density <- c(g_density, leaf_count/2^N)\n",
    "  \n",
    "  # transient length for all attractors\n",
    "  leaf_states_index <- leaf_states + 1\n",
    "  transient_lengths <- attractor_info$stateInfo$stepsToAttractor[leaf_states_index]\n",
    "  avg_transient_length <- c(avg_transient_length, sum(transient_lengths)/length (transient_lengths))\n",
    "    \n",
    "  }\n",
    "df <- data.frame(model_no, g_density, avg_indeg, avg_transient_length)\n",
    "print(df)\n",
    "write.table(df, file=sprintf(\"../data/data_10_Boolean_models/%s/results/basin_props_data/EF/%s_basin_props_example.tsv\", model_name, ftype), sep = \"\\t\", row.names=F)"
   ]
  }
 ],
 "metadata": {
  "kernelspec": {
   "display_name": "R",
   "language": "R",
   "name": "ir"
  },
  "language_info": {
   "codemirror_mode": "r",
   "file_extension": ".r",
   "mimetype": "text/x-r-source",
   "name": "R",
   "pygments_lexer": "r",
   "version": "4.1.3"
  }
 },
 "nbformat": 4,
 "nbformat_minor": 5
}
